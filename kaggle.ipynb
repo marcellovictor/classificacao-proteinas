{
 "cells": [
  {
   "cell_type": "code",
   "execution_count": 1,
   "metadata": {},
   "outputs": [],
   "source": [
    "import pandas as pd\n",
    "import numpy as np\n",
    "import matplotlib.pyplot as plt\n",
    "import seaborn as sns"
   ]
  },
  {
   "cell_type": "code",
   "execution_count": 2,
   "metadata": {},
   "outputs": [],
   "source": [
    "df = pd.read_csv('proteinas_20000_enriquecido.csv', encoding='utf-8')"
   ]
  },
  {
   "cell_type": "code",
   "execution_count": 3,
   "metadata": {},
   "outputs": [
    {
     "data": {
      "text/html": [
       "<div>\n",
       "<style scoped>\n",
       "    .dataframe tbody tr th:only-of-type {\n",
       "        vertical-align: middle;\n",
       "    }\n",
       "\n",
       "    .dataframe tbody tr th {\n",
       "        vertical-align: top;\n",
       "    }\n",
       "\n",
       "    .dataframe thead th {\n",
       "        text-align: right;\n",
       "    }\n",
       "</style>\n",
       "<table border=\"1\" class=\"dataframe\">\n",
       "  <thead>\n",
       "    <tr style=\"text-align: right;\">\n",
       "      <th></th>\n",
       "      <th>ID_Proteína</th>\n",
       "      <th>Sequência</th>\n",
       "      <th>Massa_Molecular</th>\n",
       "      <th>Ponto_Isoelétrico</th>\n",
       "      <th>Hidrofobicidade</th>\n",
       "      <th>Carga_Total</th>\n",
       "      <th>Proporção_Polar</th>\n",
       "      <th>Proporção_Apolar</th>\n",
       "      <th>Comprimento_Sequência</th>\n",
       "      <th>Classe</th>\n",
       "    </tr>\n",
       "  </thead>\n",
       "  <tbody>\n",
       "    <tr>\n",
       "      <th>0</th>\n",
       "      <td>P00001</td>\n",
       "      <td>YDRRHIIGFLHFDMQEFITDTAANHTSGSSWEHMELPDTLLPCCEP...</td>\n",
       "      <td>24667.4032</td>\n",
       "      <td>5.655161</td>\n",
       "      <td>0.105263</td>\n",
       "      <td>4</td>\n",
       "      <td>0.210526</td>\n",
       "      <td>0.349282</td>\n",
       "      <td>209</td>\n",
       "      <td>Receptora</td>\n",
       "    </tr>\n",
       "    <tr>\n",
       "      <th>1</th>\n",
       "      <td>P00002</td>\n",
       "      <td>CLAIWQQFHNWGDEDLTNTSGNCYSAVCGAWSMEAWNVVCYWGFDL...</td>\n",
       "      <td>21284.0710</td>\n",
       "      <td>5.892805</td>\n",
       "      <td>0.150838</td>\n",
       "      <td>3</td>\n",
       "      <td>0.189944</td>\n",
       "      <td>0.418994</td>\n",
       "      <td>179</td>\n",
       "      <td>Estrutural</td>\n",
       "    </tr>\n",
       "    <tr>\n",
       "      <th>2</th>\n",
       "      <td>P00003</td>\n",
       "      <td>QFPGVGNAVQARHMKGTRIHIWIHWARITAIETNQGKNEFPMCTVK...</td>\n",
       "      <td>17255.9747</td>\n",
       "      <td>7.228237</td>\n",
       "      <td>0.171141</td>\n",
       "      <td>9</td>\n",
       "      <td>0.181208</td>\n",
       "      <td>0.422819</td>\n",
       "      <td>149</td>\n",
       "      <td>Enzima</td>\n",
       "    </tr>\n",
       "    <tr>\n",
       "      <th>3</th>\n",
       "      <td>P00004</td>\n",
       "      <td>HTHIYATIVTWQCNLTQWELQRGAPNVYNWNSNYGYYVHTGLHWYW...</td>\n",
       "      <td>11792.1909</td>\n",
       "      <td>8.434802</td>\n",
       "      <td>0.173469</td>\n",
       "      <td>7</td>\n",
       "      <td>0.275510</td>\n",
       "      <td>0.408163</td>\n",
       "      <td>98</td>\n",
       "      <td>Transporte</td>\n",
       "    </tr>\n",
       "    <tr>\n",
       "      <th>4</th>\n",
       "      <td>P00005</td>\n",
       "      <td>NWFTYSTLKKTYFLSATGCEKGYAYRLTTYTYIAPWSMNPLNTHIE...</td>\n",
       "      <td>22641.7108</td>\n",
       "      <td>7.080968</td>\n",
       "      <td>0.162234</td>\n",
       "      <td>5</td>\n",
       "      <td>0.202128</td>\n",
       "      <td>0.430851</td>\n",
       "      <td>188</td>\n",
       "      <td>Outras</td>\n",
       "    </tr>\n",
       "  </tbody>\n",
       "</table>\n",
       "</div>"
      ],
      "text/plain": [
       "  ID_Proteína                                          Sequência  \\\n",
       "0      P00001  YDRRHIIGFLHFDMQEFITDTAANHTSGSSWEHMELPDTLLPCCEP...   \n",
       "1      P00002  CLAIWQQFHNWGDEDLTNTSGNCYSAVCGAWSMEAWNVVCYWGFDL...   \n",
       "2      P00003  QFPGVGNAVQARHMKGTRIHIWIHWARITAIETNQGKNEFPMCTVK...   \n",
       "3      P00004  HTHIYATIVTWQCNLTQWELQRGAPNVYNWNSNYGYYVHTGLHWYW...   \n",
       "4      P00005  NWFTYSTLKKTYFLSATGCEKGYAYRLTTYTYIAPWSMNPLNTHIE...   \n",
       "\n",
       "   Massa_Molecular  Ponto_Isoelétrico  Hidrofobicidade  Carga_Total  \\\n",
       "0       24667.4032           5.655161         0.105263            4   \n",
       "1       21284.0710           5.892805         0.150838            3   \n",
       "2       17255.9747           7.228237         0.171141            9   \n",
       "3       11792.1909           8.434802         0.173469            7   \n",
       "4       22641.7108           7.080968         0.162234            5   \n",
       "\n",
       "   Proporção_Polar  Proporção_Apolar  Comprimento_Sequência      Classe  \n",
       "0         0.210526          0.349282                    209   Receptora  \n",
       "1         0.189944          0.418994                    179  Estrutural  \n",
       "2         0.181208          0.422819                    149      Enzima  \n",
       "3         0.275510          0.408163                     98  Transporte  \n",
       "4         0.202128          0.430851                    188      Outras  "
      ]
     },
     "execution_count": 3,
     "metadata": {},
     "output_type": "execute_result"
    }
   ],
   "source": [
    "df.head()"
   ]
  },
  {
   "cell_type": "code",
   "execution_count": 12,
   "metadata": {},
   "outputs": [],
   "source": [
    "# Verificar se a coluna existe antes de removê-la\n",
    "if 'ID_Proteína' in df.columns:\n",
    "    df = df.drop(columns='ID_Proteína')"
   ]
  },
  {
   "cell_type": "code",
   "execution_count": 13,
   "metadata": {},
   "outputs": [
    {
     "name": "stdout",
     "output_type": "stream",
     "text": [
      "                                            Sequence        Mass  \\\n",
      "0  YDRRHIIGFLHFDMQEFITDTAANHTSGSSWEHMELPDTLLPCCEP...  24667.4032   \n",
      "1  CLAIWQQFHNWGDEDLTNTSGNCYSAVCGAWSMEAWNVVCYWGFDL...  21284.0710   \n",
      "2  QFPGVGNAVQARHMKGTRIHIWIHWARITAIETNQGKNEFPMCTVK...  17255.9747   \n",
      "3  HTHIYATIVTWQCNLTQWELQRGAPNVYNWNSNYGYYVHTGLHWYW...  11792.1909   \n",
      "4  NWFTYSTLKKTYFLSATGCEKGYAYRLTTYTYIAPWSMNPLNTHIE...  22641.7108   \n",
      "\n",
      "   Ponto_Isoeletrico  Hidrofobicidade  Carga_Total  Proporcao_Polar  \\\n",
      "0           5.655161         0.105263            4         0.210526   \n",
      "1           5.892805         0.150838            3         0.189944   \n",
      "2           7.228237         0.171141            9         0.181208   \n",
      "3           8.434802         0.173469            7         0.275510   \n",
      "4           7.080968         0.162234            5         0.202128   \n",
      "\n",
      "   Proporcao_Apolar  Length  Classes_GO  \n",
      "0          0.349282     209   Receptora  \n",
      "1          0.418994     179  Estrutural  \n",
      "2          0.422819     149      Enzima  \n",
      "3          0.408163      98  Transporte  \n",
      "4          0.430851     188      Outras  \n"
     ]
    }
   ],
   "source": [
    "# Verificar se a coluna existe antes de removê-la\n",
    "if 'ID_Proteína' in df.columns:\n",
    "    df = df.drop(columns='ID_Proteína')\n",
    "\n",
    "df.rename(columns={\n",
    "                'Sequência': 'Sequence',\n",
    "                'Massa_Molecular': 'Mass',\n",
    "                'Ponto_Isoelétrico': 'Ponto_Isoeletrico',\n",
    "                'Proporção_Polar': 'Proporcao_Polar',\n",
    "                'Proporção_Apolar': 'Proporcao_Apolar',\n",
    "                'Comprimento_Sequência': 'Length',\n",
    "                'Classe': 'Classes_GO'\n",
    "                    }, inplace=True)\n",
    "\n",
    "print(df.head())"
   ]
  }
 ],
 "metadata": {
  "kernelspec": {
   "display_name": "trab-ml-uff",
   "language": "python",
   "name": "python3"
  },
  "language_info": {
   "codemirror_mode": {
    "name": "ipython",
    "version": 3
   },
   "file_extension": ".py",
   "mimetype": "text/x-python",
   "name": "python",
   "nbconvert_exporter": "python",
   "pygments_lexer": "ipython3",
   "version": "3.11.11"
  }
 },
 "nbformat": 4,
 "nbformat_minor": 2
}
